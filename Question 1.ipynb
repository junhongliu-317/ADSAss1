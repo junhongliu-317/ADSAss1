{
 "cells": [
  {
   "cell_type": "code",
   "execution_count": null,
   "metadata": {},
   "outputs": [],
   "source": [
    "import pandas as pd\n",
    "import seaborn as sns\n",
    "\n",
    "data = pd.read_csv('./TC.csv')\n",
    "\n",
    "#Generate CM and CM Heatmap of the TC\n",
    "data = data.drop('Unnamed: 0', axis = 1)\n",
    "cor = round(data.corr(), 6)\n",
    "print(cor)\n",
    "ax = sns.heatmap(\n",
    "    cor, \n",
    "    square=True\n",
    ")\n",
    "ax.set_title(\"TC\")"
   ]
  },
  {
   "cell_type": "code",
   "execution_count": null,
   "metadata": {},
   "outputs": [],
   "source": [
    "#Generate heatmap of each SM\n",
    "data = pd.read_csv(\"./SM1.csv\")\n",
    "data = data.drop('Unnamed: 0', axis = 1)\n",
    "xlabels = range(0,21)\n",
    "ax = sns.heatmap(data,  xticklabels=xlabels, square = True)"
   ]
  },
  {
   "cell_type": "code",
   "execution_count": null,
   "metadata": {},
   "outputs": [],
   "source": [
    "data = pd.read_csv(\"./SM2.csv\")\n",
    "data = data.drop('Unnamed: 0', axis = 1)\n",
    "ax = sns.heatmap(data, xticklabels=xlabels, square = True)"
   ]
  },
  {
   "cell_type": "code",
   "execution_count": null,
   "metadata": {},
   "outputs": [],
   "source": [
    "data = pd.read_csv(\"./SM3.csv\")\n",
    "data = data.drop('Unnamed: 0', axis = 1)\n",
    "ax = sns.heatmap(data, xticklabels=xlabels,square = True)"
   ]
  },
  {
   "cell_type": "code",
   "execution_count": null,
   "metadata": {},
   "outputs": [],
   "source": [
    "data = pd.read_csv(\"./SM4.csv\")\n",
    "data = data.drop('Unnamed: 0', axis = 1)\n",
    "ax = sns.heatmap(data, xticklabels=xlabels,square = True)"
   ]
  },
  {
   "cell_type": "code",
   "execution_count": null,
   "metadata": {},
   "outputs": [],
   "source": [
    "data = pd.read_csv(\"./SM5.csv\")\n",
    "data = data.drop('Unnamed: 0', axis = 1)\n",
    "ax = sns.heatmap(data, xticklabels=xlabels,square = True)"
   ]
  },
  {
   "cell_type": "code",
   "execution_count": null,
   "metadata": {},
   "outputs": [],
   "source": [
    "data = pd.read_csv(\"./SM6.csv\")\n",
    "data = data.drop('Unnamed: 0', axis = 1)\n",
    "ax = sns.heatmap(data, xticklabels=xlabels,square = True)"
   ]
  },
  {
   "cell_type": "code",
   "execution_count": null,
   "metadata": {},
   "outputs": [],
   "source": [
    "data = pd.read_csv('./SM.csv')\n",
    "\n",
    "#Generate CM and CM Heatmap of SM matrix\n",
    "data = data.drop('Unnamed: 0', axis = 1)\n",
    "cor = round(data.corr(), 6)\n",
    "print(cor)\n",
    "\n",
    "ax = sns.heatmap(\n",
    "    cor, \n",
    "    square=True\n",
    ")\n",
    "ax.set_title(\"SM\")"
   ]
  },
  {
   "cell_type": "code",
   "execution_count": null,
   "metadata": {},
   "outputs": [],
   "source": [
    "data = pd.read_csv('./TCnoise.csv')\n",
    "\n",
    "#Generate CM and CM heatmap of each noise matrix\n",
    "data = data.drop('Unnamed: 0', axis = 1)\n",
    "cor = round(data.corr(), 6)\n",
    "print(cor)\n",
    "\n",
    "ax = sns.heatmap(\n",
    "    cor, \n",
    "    square=True,\n",
    ")\n",
    "ax.set_title(\"TCnoise\")"
   ]
  },
  {
   "cell_type": "code",
   "execution_count": null,
   "metadata": {},
   "outputs": [],
   "source": [
    "data = pd.read_csv('./SMnoise.csv')\n",
    "\n",
    "\n",
    "data = data.drop('Unnamed: 0', axis = 1)\n",
    "cor = round(data.corr(), 6)\n",
    "print(cor)\n",
    "\n",
    "ax = sns.heatmap(\n",
    "    cor, \n",
    "    square=True\n",
    ")\n",
    "ax.set_title(\"SMnoise\")"
   ]
  },
  {
   "cell_type": "code",
   "execution_count": null,
   "metadata": {},
   "outputs": [],
   "source": [
    "data = pd.read_csv('./noiseProd.csv')\n",
    "\n",
    "\n",
    "data = data.drop('Unnamed: 0', axis = 1)\n",
    "cor = round(data.corr(), 6)\n",
    "sns.set(rc = {'figure.figsize':(30,30)})\n",
    "ax = sns.heatmap(\n",
    "    cor, \n",
    "    square=True,\n",
    "    cmap=\"coolwarm\"\n",
    ")\n",
    "ax.set_title(\"\")"
   ]
  },
  {
   "cell_type": "code",
   "execution_count": null,
   "metadata": {},
   "outputs": [],
   "source": [
    "data = pd.read_csv('./Alsr.csv')\n",
    "\n",
    "\n",
    "data = data.drop('Unnamed: 0', axis = 1)\n",
    "\n",
    "ax = sns.heatmap(\n",
    "    data, \n",
    "    square=True,\n",
    "    cmap=\"coolwarm\"\n",
    ")\n",
    "ax.set_title(\"A_lsr Heatmap\")"
   ]
  }
 ],
 "metadata": {
  "kernelspec": {
   "display_name": "Python 3 (ipykernel)",
   "language": "python",
   "name": "python3"
  },
  "language_info": {
   "codemirror_mode": {
    "name": "ipython",
    "version": 3
   },
   "file_extension": ".py",
   "mimetype": "text/x-python",
   "name": "python",
   "nbconvert_exporter": "python",
   "pygments_lexer": "ipython3",
   "version": "3.8.10"
  },
  "varInspector": {
   "cols": {
    "lenName": 16,
    "lenType": 16,
    "lenVar": 40
   },
   "kernels_config": {
    "python": {
     "delete_cmd_postfix": "",
     "delete_cmd_prefix": "del ",
     "library": "var_list.py",
     "varRefreshCmd": "print(var_dic_list())"
    },
    "r": {
     "delete_cmd_postfix": ") ",
     "delete_cmd_prefix": "rm(",
     "library": "var_list.r",
     "varRefreshCmd": "cat(var_dic_list()) "
    }
   },
   "types_to_exclude": [
    "module",
    "function",
    "builtin_function_or_method",
    "instance",
    "_Feature"
   ],
   "window_display": false
  }
 },
 "nbformat": 4,
 "nbformat_minor": 4
}
